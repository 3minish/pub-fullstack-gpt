{
 "cells": [
  {
   "cell_type": "code",
   "execution_count": 19,
   "metadata": {},
   "outputs": [],
   "source": [
    "from langchain.chat_models import ChatOpenAI\n",
    "from langchain.prompts import ChatPromptTemplate\n",
    "from langchain.callbacks import StreamingStdOutCallbackHandler\n",
    "\n",
    "chat = ChatOpenAI(\n",
    "    temperature=0.1,\n",
    "    streaming=True,\n",
    "    callbacks=[\n",
    "        StreamingStdOutCallbackHandler(),\n",
    "    ],\n",
    ")\n",
    "\n",
    "haikus_prompt = ChatPromptTemplate.from_messages(\n",
    "    [\n",
    "        (\n",
    "            \"system\",\n",
    "            \"You are a poet who specializes in writing poems about programming languages. Please write a poem with the theme of the programming language you received. If you do not know the programming language, say you do not know how.\",\n",
    "        ),\n",
    "        (\"human\", \"languge name is {language}\"),\n",
    "    ]\n",
    ")\n",
    "\n",
    "haikus_chain = haikus_prompt | chat"
   ]
  },
  {
   "cell_type": "code",
   "execution_count": 21,
   "metadata": {},
   "outputs": [
    {
     "name": "stdout",
     "output_type": "stream",
     "text": [
      "In the land of Golang, where efficiency reigns,\n",
      "A language designed with simplicity and gains.\n",
      "Concurrency a breeze, with goroutines in flight,\n",
      "Efficient and fast, like a swift bird in flight.\n",
      "\n",
      "With its strong typing and packages galore,\n",
      "Golang stands out, a language to adore.\n",
      "Error handling made easy, with defer and panic,\n",
      "Clean and concise, like a well-crafted mechanic.\n",
      "\n",
      "From web servers to microservices grand,\n",
      "Golang shines bright, across the land.\n",
      "A language of power, with performance so fine,\n",
      "In the world of programming, Golang will shine.In the land of Golang, where efficiency reigns,\n",
      "A language designed with simplicity and gains.\n",
      "Concurrency a breeze, with goroutines in flight,\n",
      "Efficient and fast, like a swift bird in flight.\n",
      "\n",
      "With its strong typing and packages galore,\n",
      "Golang stands out, a language to adore.\n",
      "Error handling made easy, with defer and panic,\n",
      "Clean and concise, like a well-crafted mechanic.\n",
      "\n",
      "From web servers to microservices grand,\n",
      "Golang shines bright, across the land.\n",
      "A language of power, with performance so fine,\n",
      "In the world of programming, Golang will shine.\n",
      "\n",
      "This poem beautifully captures the essence of the programming language Golang. The poet skillfully highlights its efficiency, simplicity, and power through vivid imagery and clever word choices. The use of metaphors like \"a swift bird in flight\" and \"a well-crafted mechanic\" adds depth to the description of Golang's features. The poem celebrates Golang's strengths in a rhythmic and engaging manner, making it a delightful read for both programmers and poetry enthusiasts alike."
     ]
    },
    {
     "data": {
      "text/plain": [
       "AIMessageChunk(content='In the land of Golang, where efficiency reigns,\\nA language designed with simplicity and gains.\\nConcurrency a breeze, with goroutines in flight,\\nEfficient and fast, like a swift bird in flight.\\n\\nWith its strong typing and packages galore,\\nGolang stands out, a language to adore.\\nError handling made easy, with defer and panic,\\nClean and concise, like a well-crafted mechanic.\\n\\nFrom web servers to microservices grand,\\nGolang shines bright, across the land.\\nA language of power, with performance so fine,\\nIn the world of programming, Golang will shine.\\n\\nThis poem beautifully captures the essence of the programming language Golang. The poet skillfully highlights its efficiency, simplicity, and power through vivid imagery and clever word choices. The use of metaphors like \"a swift bird in flight\" and \"a well-crafted mechanic\" adds depth to the description of Golang\\'s features. The poem celebrates Golang\\'s strengths in a rhythmic and engaging manner, making it a delightful read for both programmers and poetry enthusiasts alike.')"
      ]
     },
     "execution_count": 21,
     "metadata": {},
     "output_type": "execute_result"
    }
   ],
   "source": [
    "description_prompt = ChatPromptTemplate.from_messages(\n",
    "    [\n",
    "        (\n",
    "            \"system\",\n",
    "            \"You are a poet critic who professionally describes poetry. First, show the poem you received, and line break and then enter a description of the poem below.If you can't describe the poem, say you don't know how\",\n",
    "        ),\n",
    "        (\"human\", \"{recipe}\"),\n",
    "    ]\n",
    ")\n",
    "\n",
    "\n",
    "description_chain = description_prompt | chat\n",
    "final_chain = {\"recipe\": haikus_chain} | description_chain \n",
    "\n",
    "final_chain.invoke({\"language\": \"golang\"})"
   ]
  },
  {
   "cell_type": "code",
   "execution_count": null,
   "metadata": {},
   "outputs": [],
   "source": []
  }
 ],
 "metadata": {
  "kernelspec": {
   "display_name": "env",
   "language": "python",
   "name": "python3"
  },
  "language_info": {
   "codemirror_mode": {
    "name": "ipython",
    "version": 3
   },
   "file_extension": ".py",
   "mimetype": "text/x-python",
   "name": "python",
   "nbconvert_exporter": "python",
   "pygments_lexer": "ipython3",
   "version": "3.9.1"
  }
 },
 "nbformat": 4,
 "nbformat_minor": 2
}
